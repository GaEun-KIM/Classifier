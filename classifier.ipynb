{
  "nbformat": 4,
  "nbformat_minor": 0,
  "metadata": {
    "colab": {
      "name": "classifier.ipynb",
      "provenance": [],
      "collapsed_sections": [],
      "toc_visible": true,
      "authorship_tag": "ABX9TyOnuT2E+x+WVsL4QqFZU13F"
    },
    "kernelspec": {
      "name": "python3",
      "display_name": "Python 3"
    },
    "accelerator": "GPU"
  },
  "cells": [
    {
      "cell_type": "code",
      "metadata": {
        "id": "e-gpCqSQFq-o"
      },
      "source": [
        "from fastai.vision.all import *\r\n",
        "from fastai.vision.widgets import *"
      ],
      "execution_count": null,
      "outputs": []
    },
    {
      "cell_type": "markdown",
      "metadata": {
        "id": "0puMQ5RfZcWJ"
      },
      "source": [
        "# **Classifier!**\r\n",
        "\r\n",
        "### Succulent vs. Cactus vs. Tree\r\n",
        "---\r\n",
        "\r\n"
      ]
    },
    {
      "cell_type": "code",
      "metadata": {
        "id": "ypEd4cd1huNx"
      },
      "source": [
        "img_records = []\r\n",
        "pred_records = []\r\n",
        "probs_records = []\r\n",
        "\r\n",
        "history = widgets.Label()"
      ],
      "execution_count": null,
      "outputs": []
    },
    {
      "cell_type": "code",
      "metadata": {
        "id": "AHupeJ1haQfA"
      },
      "source": [
        "path = Path()\r\n",
        "learn_inf = load_learner(path/'export.pkl', cpu=True)\r\n",
        "btn_upload = widgets.FileUpload()\r\n",
        "out_pl = widgets.Output()\r\n",
        "lbl_pred = widgets.Label()\r\n",
        "btn_run = widgets.Button(description='Classify')\r\n"
      ],
      "execution_count": null,
      "outputs": []
    },
    {
      "cell_type": "code",
      "metadata": {
        "id": "O9x-lOWbaWMv"
      },
      "source": [
        "def on_click_classify(change):\r\n",
        "    img = PILImage.create(btn_upload.data[-1])\r\n",
        "    out_pl.clear_output()\r\n",
        "    with out_pl: display(img.to_thumb(128,128))\r\n",
        "    pred,pred_idx,probs = learn_inf.predict(img)\r\n",
        "    lbl_pred.value = f'Prediction: {pred}; Probability: {probs[pred_idx]:.04f}'\r\n",
        "\r\n",
        "    img_records.append(img)\r\n",
        "    pred_records.append(pred)\r\n",
        "    probs_records.append(probs[pred_idx])\r\n",
        "    \r\n",
        "    if len(img_records) <=1 :\r\n",
        "      history.value = 'Check what was your recent classification'\r\n",
        "    else:\r\n",
        "      history.value = f'img: {display(img_records[-2].to_thumb(128, 128))}; Prediction: {pred_records[-2]}; Probability: {probs_records[-2]:.04f}'\r\n"
      ],
      "execution_count": null,
      "outputs": []
    },
    {
      "cell_type": "code",
      "metadata": {
        "id": "STUpO-EjaiaQ"
      },
      "source": [
        "btn_run.on_click(on_click_classify)\r\n",
        "btn_upload = widgets.FileUpload()"
      ],
      "execution_count": null,
      "outputs": []
    },
    {
      "cell_type": "code",
      "metadata": {
        "id": "TVHxR0cfapvQ"
      },
      "source": [
        "display(VBox([widgets.Label('Upload your picture and then, wait a second for classification!'), btn_upload, btn_run, out_pl, lbl_pred, \r\n",
        "              widgets.Label('History'), history ]))"
      ],
      "execution_count": null,
      "outputs": []
    }
  ]
}