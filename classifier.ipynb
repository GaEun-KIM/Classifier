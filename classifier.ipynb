{
  "nbformat": 4,
  "nbformat_minor": 0,
  "metadata": {
    "colab": {
      "name": "classifier.ipynb",
      "provenance": [],
      "collapsed_sections": [],
      "toc_visible": true,
      "authorship_tag": "ABX9TyM2V1vpzC6SwJniqyYT9l9C"
    },
    "kernelspec": {
      "name": "python3",
      "display_name": "Python 3"
    },
    "accelerator": "GPU"
  },
  "cells": [
    {
      "cell_type": "code",
      "metadata": {
        "id": "e-gpCqSQFq-o"
      },
      "source": [
        "from fastai.vision.all import *\r\n",
        "from fastai.vision.widgets import *"
      ],
      "execution_count": null,
      "outputs": []
    },
    {
      "cell_type": "markdown",
      "metadata": {
        "id": "0puMQ5RfZcWJ"
      },
      "source": [
        "# **Classifier!**\r\n",
        "\r\n",
        "### Succulent vs. Cactus vs. Tree\r\n",
        "---\r\n",
        "\r\n"
      ]
    },
    {
      "cell_type": "code",
      "metadata": {
        "id": "XfZnctrokqrw"
      },
      "source": [
        "records = []"
      ],
      "execution_count": null,
      "outputs": []
    },
    {
      "cell_type": "code",
      "metadata": {
        "id": "AHupeJ1haQfA"
      },
      "source": [
        "path = Path()\r\n",
        "learn_inf = load_learner(path/'export.pkl', cpu=True)\r\n",
        "btn_upload = widgets.FileUpload()\r\n",
        "out_pl = widgets.Output()\r\n",
        "lbl_pred = widgets.Label()\r\n",
        "\r\n",
        "#his_out_pl = widgets.Output()\r\n",
        "his_lbl_pred = widgets.Label()"
      ],
      "execution_count": null,
      "outputs": []
    },
    {
      "cell_type": "code",
      "metadata": {
        "id": "O9x-lOWbaWMv"
      },
      "source": [
        "def on_click_classify(change):\r\n",
        "    img = PILImage.create(btn_upload.data[-1])\r\n",
        "    out_pl.clear_output()\r\n",
        "    with out_pl: display(img.to_thumb(128,128))\r\n",
        "    pred,pred_idx,probs = learn_inf.predict(img)\r\n",
        "    lbl_pred.value = f'Prediction: {pred}; Probability: {probs[pred_idx]:.04f}'\r\n",
        "    \r\n",
        "    #his_out_pl = out_pl\r\n",
        "    his_lbl_pred.value = lbl_pred.value\r\n",
        "    records.append(his_lbl_pred)\r\n"
      ],
      "execution_count": null,
      "outputs": []
    },
    {
      "cell_type": "code",
      "metadata": {
        "id": "oQymxZDk4dcy"
      },
      "source": [
        "def history():\r\n",
        "    display(VBox([widgets.Label('Check the History down here!')]))\r\n",
        "    for record in records:\r\n",
        "      display(record)"
      ],
      "execution_count": null,
      "outputs": []
    },
    {
      "cell_type": "code",
      "metadata": {
        "id": "STUpO-EjaiaQ"
      },
      "source": [
        "btn_upload.observe(on_click_classify, names=['data'])"
      ],
      "execution_count": null,
      "outputs": []
    },
    {
      "cell_type": "code",
      "metadata": {
        "id": "TVHxR0cfapvQ"
      },
      "source": [
        "display(VBox([widgets.Label('Upload yoour picture and then, waite a second for classification!'), btn_upload, out_pl, lbl_pred, history()]))"
      ],
      "execution_count": null,
      "outputs": []
    },
    {
      "cell_type": "code",
      "metadata": {
        "id": "4rHqGXyyqVE8"
      },
      "source": [
        "#display(VBox([widgets.Label('Check the History down here!')]))\r\n",
        "\r\n",
        "#for record in records:\r\n",
        "#  display(record)"
      ],
      "execution_count": null,
      "outputs": []
    }
  ]
}