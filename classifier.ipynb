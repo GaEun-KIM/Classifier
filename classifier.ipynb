{
  "nbformat": 4,
  "nbformat_minor": 0,
  "metadata": {
    "colab": {
      "name": "classifier.ipynb",
      "provenance": [],
      "collapsed_sections": [],
      "toc_visible": true,
      "authorship_tag": "ABX9TyPdibRaZUmBHVH9U8LEGsu8"
    },
    "kernelspec": {
      "name": "python3",
      "display_name": "Python 3"
    },
    "accelerator": "GPU"
  },
  "cells": [
    {
      "cell_type": "code",
      "metadata": {
        "id": "e-gpCqSQFq-o"
      },
      "source": [
        "from fastai.vision.all import *\r\n",
        "from fastai.vision.widgets import *"
      ],
      "execution_count": null,
      "outputs": []
    },
    {
      "cell_type": "markdown",
      "metadata": {
        "id": "0puMQ5RfZcWJ"
      },
      "source": [
        "# **Classifier!**\r\n",
        "\r\n",
        "### Succulent vs. Cactus vs. Tree\r\n",
        "---\r\n",
        "\r\n"
      ]
    },
    {
      "cell_type": "code",
      "metadata": {
        "id": "QLpPnDVwRfZe"
      },
      "source": [
        "history_pred = widgets.Label()\r\n",
        "history_img = widgets.Output()\r\n",
        "\r\n",
        "records1 = []\r\n",
        "records2 = []"
      ],
      "execution_count": null,
      "outputs": []
    },
    {
      "cell_type": "code",
      "metadata": {
        "id": "AHupeJ1haQfA"
      },
      "source": [
        "path = Path()\r\n",
        "learn_inf = load_learner(path/'export.pkl', cpu=True)\r\n",
        "btn_upload = widgets.FileUpload()\r\n",
        "out_pl = widgets.Output()\r\n",
        "lbl_pred = widgets.Label()\r\n",
        "\r\n",
        "btn_run = widgets.Button(description='Classify')\r\n"
      ],
      "execution_count": null,
      "outputs": []
    },
    {
      "cell_type": "code",
      "metadata": {
        "id": "O9x-lOWbaWMv"
      },
      "source": [
        "def on_click_classify(change):\r\n",
        "    img = PILImage.create(btn_upload.data[-1])\r\n",
        "    out_pl.clear_output()\r\n",
        "    with out_pl: display(img.to_thumb(128,128))\r\n",
        "    pred,pred_idx,probs = learn_inf.predict(img)\r\n",
        "    lbl_pred.value = f'Prediction: {pred}; Probability: {probs[pred_idx]:.04f}'\r\n",
        "    "
      ],
      "execution_count": null,
      "outputs": []
    },
    {
      "cell_type": "code",
      "metadata": {
        "id": "STUpO-EjaiaQ"
      },
      "source": [
        "#btn_upload.observe(on_click_classify, names=['data'])\r\n",
        "btn_run.on_click(on_click_classify)\r\n",
        "btn_upload = widgets.FileUpload()"
      ],
      "execution_count": null,
      "outputs": []
    },
    {
      "cell_type": "code",
      "metadata": {
        "id": "TVHxR0cfapvQ"
      },
      "source": [
        "display(VBox([widgets.Label('Upload your picture and then, wait a second for classification!'), btn_upload, btn_run, out_pl, lbl_pred ]))"
      ],
      "execution_count": null,
      "outputs": []
    },
    {
      "cell_type": "code",
      "metadata": {
        "id": "oXUmi1YcRlAU"
      },
      "source": [
        "records1.append(out_pl)\r\n",
        "records2.append(lbl_pred)"
      ],
      "execution_count": null,
      "outputs": []
    },
    {
      "cell_type": "markdown",
      "metadata": {
        "id": "gFLA2BMdS8xj"
      },
      "source": [
        "# History"
      ]
    },
    {
      "cell_type": "code",
      "metadata": {
        "id": "A9aY-n9HSTcD"
      },
      "source": [
        "for record1 in records1:\r\n",
        "  display(VBox([widgets.Label('record1:'), record1]))"
      ],
      "execution_count": null,
      "outputs": []
    },
    {
      "cell_type": "code",
      "metadata": {
        "id": "-DPel3ZES21a"
      },
      "source": [
        "for record2 in records2:\r\n",
        "  display(VBox([widgets.Label('record2:'), record2]))"
      ],
      "execution_count": null,
      "outputs": []
    }
  ]
}